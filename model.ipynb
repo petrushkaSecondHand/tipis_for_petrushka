{
 "cells": [
  {
   "cell_type": "code",
   "execution_count": null,
   "id": "67ab72a3-9cac-4bf0-8997-7989c21771c1",
   "metadata": {},
   "outputs": [],
   "source": [
    "import pandas as pd\n",
    "import joblib\n",
    "from sklearn.model_selection import train_test_split\n",
    "from sklearn.ensemble import RandomForestClassifier\n",
    "from sklearn.metrics import accuracy_score, classification_report"
   ]
  },
  {
   "cell_type": "code",
   "execution_count": null,
   "id": "b4dad937-5175-46dc-8fa5-f99d1f6da100",
   "metadata": {},
   "outputs": [],
   "source": [
    "# Загрузка данных\n",
    "data = pd.read_excel(r'C:\\Users\\Oleg\\Documents\\phone.xlsx')"
   ]
  },
  {
   "cell_type": "code",
   "execution_count": null,
   "id": "8d1ec4b2-0552-4377-9d41-65a486750a16",
   "metadata": {},
   "outputs": [],
   "source": [
    "features = [\n",
    "    'battery_power', 'blue', 'clock_speed', 'dual_sim', 'fc',\n",
    "    'four_g', 'int_memory', 'm_dep', 'mobile_wt', 'price_range'\n",
    "]\n",
    "data = data[features]"
   ]
  },
  {
   "cell_type": "code",
   "execution_count": null,
   "id": "52e1abff-2ab7-4fb2-be26-b633083df9a9",
   "metadata": {},
   "outputs": [],
   "source": [
    "# Split into features and target\n",
    "X = data.drop('price_range', axis=1)\n",
    "y = data['price_range']"
   ]
  },
  {
   "cell_type": "code",
   "execution_count": null,
   "id": "61e8a997-c215-486a-97f3-f62f11dd9eb5",
   "metadata": {},
   "outputs": [],
   "source": [
    "# Split into training and testing sets\n",
    "X_train, X_test, y_train, y_test = train_test_split(X, y, test_size=0.2, random_state=42)"
   ]
  },
  {
   "cell_type": "code",
   "execution_count": null,
   "id": "3b9c5c96-f88a-46e7-aafd-e7063d6bd4bc",
   "metadata": {},
   "outputs": [],
   "source": [
    "# Train the RandomForestClassifier\n",
    "model = RandomForestClassifier(n_estimators=100, random_state=42)\n",
    "model.fit(X_train, y_train)"
   ]
  },
  {
   "cell_type": "code",
   "execution_count": null,
   "id": "86177655-0e19-4579-8797-64e4c630be13",
   "metadata": {},
   "outputs": [],
   "source": [
    "# Save the model\n",
    "joblib.dump(model, 'mobile_price_model.pkl')"
   ]
  },
  {
   "cell_type": "code",
   "execution_count": null,
   "id": "b77132a7-bc26-4d65-814f-d11089f94115",
   "metadata": {},
   "outputs": [],
   "source": [
    "\n",
    "# Save the feature information\n",
    "features_info = {'columns': X.columns.tolist()}\n",
    "joblib.dump(features_info, 'features_info.pkl')"
   ]
  }
 ],
 "metadata": {
  "kernelspec": {
   "display_name": "Python 3 (ipykernel)",
   "language": "python",
   "name": "python3"
  },
  "language_info": {
   "codemirror_mode": {
    "name": "ipython",
    "version": 3
   },
   "file_extension": ".py",
   "mimetype": "text/x-python",
   "name": "python",
   "nbconvert_exporter": "python",
   "pygments_lexer": "ipython3",
   "version": "3.12.8"
  }
 },
 "nbformat": 4,
 "nbformat_minor": 5
}
