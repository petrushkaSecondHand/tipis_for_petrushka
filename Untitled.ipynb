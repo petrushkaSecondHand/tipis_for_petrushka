{
 "cells": [
  {
   "cell_type": "code",
   "execution_count": 5,
   "id": "9c4bf80a-e77f-4ee1-9653-9eba057c15ba",
   "metadata": {},
   "outputs": [
    {
     "name": "stderr",
     "output_type": "stream",
     "text": [
      "<>:8: SyntaxWarning: invalid escape sequence '\\s'\n",
      "<>:8: SyntaxWarning: invalid escape sequence '\\s'\n",
      "C:\\Users\\Oleg\\AppData\\Local\\Temp\\ipykernel_18844\\1561154058.py:8: SyntaxWarning: invalid escape sequence '\\s'\n",
      "  df = pd.read_csv('adult.data', header=None, names=column_names, sep=',\\s', na_values='?', engine='python')\n"
     ]
    },
    {
     "name": "stdout",
     "output_type": "stream",
     "text": [
      "Число столбцов: 15\n",
      "Столбцы с пропусками:\n",
      "workclass         1836\n",
      "occupation        1843\n",
      "native-country     583\n",
      "dtype: int64\n",
      "Количество уникальных значений в столбце race: 5\n",
      "Медиана для hours-per-week: 40.0\n",
      "Мужчин с ЗП >50K: 6662\n",
      "Женщин с ЗП >50K: 1179\n",
      "Мужчин с ЗП >50K больше.\n",
      "Остались ли пропуски после заполнения: True\n"
     ]
    }
   ],
   "source": [
    "import pandas as pd\n",
    "\n",
    "\n",
    "column_names = ['age', 'workclass', 'fnlwgt', 'education', 'education-num', 'marital-status', \n",
    "                'occupation', 'relationship', 'race', 'sex', 'capital-gain', 'capital-loss', \n",
    "                'hours-per-week', 'native-country', 'income']\n",
    "\n",
    "df = pd.read_csv('adult.data', header=None, names=column_names, sep=',\\s', na_values='?', engine='python')\n",
    "\n",
    "\n",
    "num_columns = df.shape[1]\n",
    "print(f'Число столбцов: {num_columns}')\n",
    "\n",
    "\n",
    "missing_columns = df.isnull().sum()[df.isnull().sum() > 0]\n",
    "print(f'Столбцы с пропусками:\\n{missing_columns}')\n",
    "\n",
    "\n",
    "unique_race = df['race'].nunique()\n",
    "print(f'Количество уникальных значений в столбце race: {unique_race}')\n",
    "\n",
    "\n",
    "median_hours_per_week = df['hours-per-week'].median()\n",
    "print(f'Медиана для hours-per-week: {median_hours_per_week}')\n",
    "\n",
    "\n",
    "income_above_50k = df[df['income'] == '>50K']\n",
    "gender_count = income_above_50k['sex'].value_counts()\n",
    "print(f\"Мужчин с ЗП >50K: {gender_count.get('Male', 0)}\")\n",
    "print(f\"Женщин с ЗП >50K: {gender_count.get('Female', 0)}\")\n",
    "if gender_count.get('Male', 0) > gender_count.get('Female', 0):\n",
    "    print(\"Мужчин с ЗП >50K больше.\")\n",
    "else:\n",
    "    print(\"Женщин с ЗП >50K больше.\")\n",
    "\n",
    "\n",
    "df_filled = df.fillna(df.mode().iloc[0])\n",
    "\n",
    "\n",
    "print(f'Остались ли пропуски после заполнения: {df_filled.isnull().sum().sum() == 0}')\n",
    "\n"
   ]
  },
  {
   "cell_type": "code",
   "execution_count": null,
   "id": "2b918144-3cdf-4abf-8eb4-ed117e24ea29",
   "metadata": {},
   "outputs": [],
   "source": []
  }
 ],
 "metadata": {
  "kernelspec": {
   "display_name": "Python 3 (ipykernel)",
   "language": "python",
   "name": "python3"
  },
  "language_info": {
   "codemirror_mode": {
    "name": "ipython",
    "version": 3
   },
   "file_extension": ".py",
   "mimetype": "text/x-python",
   "name": "python",
   "nbconvert_exporter": "python",
   "pygments_lexer": "ipython3",
   "version": "3.12.6"
  }
 },
 "nbformat": 4,
 "nbformat_minor": 5
}
